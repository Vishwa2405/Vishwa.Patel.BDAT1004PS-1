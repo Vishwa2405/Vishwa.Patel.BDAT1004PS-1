{
  "nbformat": 4,
  "nbformat_minor": 0,
  "metadata": {
    "colab": {
      "provenance": []
    },
    "kernelspec": {
      "name": "python3",
      "display_name": "Python 3"
    },
    "language_info": {
      "name": "python"
    }
  },
  "cells": [
    {
      "cell_type": "markdown",
      "source": [
        "[7] File bloodtype1.txt records blood-types of patients (A, B, AB, O or OO) at a clinic. Write a function bldcount() that reads the file with name name and reports (i.e., prints) how many patients there are in each bloodtype.<br><br>\n",
        "bldcount('bloodtype.txt') <br>\n",
        "There are 10 patients of blood type A.<br>\n",
        "There is one patient of blood type B.<br>\n",
        "There are 10 patients of blood type AB.<br>\n",
        "There are 12 patients of blood type O.<br>\n",
        "There are no patients of blood type OO."
      ],
      "metadata": {
        "id": "JIvTbtiauWMF"
      }
    },
    {
      "cell_type": "code",
      "execution_count": null,
      "metadata": {
        "colab": {
          "base_uri": "https://localhost:8080/"
        },
        "id": "2xFbJgn4taWy",
        "outputId": "9342f89a-fd5f-49ed-c48f-8ea72146a240"
      },
      "outputs": [
        {
          "output_type": "stream",
          "name": "stdout",
          "text": [
            "There are 15 number of patients of blood type: A\n",
            "There is only 1 patient of blood type: B\n",
            "There are 13 number of patients of blood type: AB\n",
            "There are 15 number of patients of blood type: O\n",
            "There are no patients of blood type: OO\n"
          ]
        }
      ],
      "source": [
        "def bloodCount(filename):\n",
        "    # making a dictionary which states all the blood types od people\n",
        "    bloodTypCount = {'A': 0, 'B': 0, 'AB': 0, 'O': 0, 'OO': 0}\n",
        "\n",
        "    # opening a file\n",
        "    with open(filename, 'r') as blood_file:\n",
        "        fileData = blood_file.read()\n",
        "\n",
        "        # making some separation to the text file in order to get the blood group data in proper format\n",
        "        bloodType_patient = fileData.split()\n",
        "\n",
        "        # executing the counter for records\n",
        "        for bloodType in bloodType_patient:\n",
        "            bloodType = bloodType.upper()\n",
        "            if bloodType in bloodTypCount:\n",
        "                bloodTypCount[bloodType] += 1\n",
        "            else:\n",
        "                print(f\"Illegal blood type found: {bloodType}\")\n",
        "\n",
        "    # outcomes of the given program\n",
        "    for bloodType, count in bloodTypCount.items():\n",
        "        if count == 1:\n",
        "            print(f'There is only 1 patient of blood type: {bloodType}')\n",
        "        elif count > 1:\n",
        "            print(f'There are {count} number of patients of blood type: {bloodType}')\n",
        "        else:\n",
        "            print(f'There are no patients of blood type: {bloodType}')\n",
        "\n",
        "# Bloodgroup file\n",
        "bloodCount('bloodtype1.txt')"
      ]
    }
  ]
}