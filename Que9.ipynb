{
  "nbformat": 4,
  "nbformat_minor": 0,
  "metadata": {
    "colab": {
      "provenance": []
    },
    "kernelspec": {
      "name": "python3",
      "display_name": "Python 3"
    },
    "language_info": {
      "name": "python"
    }
  },
  "cells": [
    {
      "cell_type": "markdown",
      "source": [
        "Each of the following will cause an exception (an error). Identify what type of exception each will cause.<br>\n",
        "<br>[1] Trying to add incompatible variables, as in adding 6 + ‘a’: <br>Ans. TypeError: Mixing incompatible types in an operation, such as attempting to add an integer and a string (for example, 6 + 'a').\n",
        "<br><br>[2] Referring to the 12th item of a list that has only 10 items:<br>Ans. IndexError: Attempting to access an index outside of a list's range, such as the 12th item in a list containing only ten items.\n",
        "<br><br>[3] Using a value that is out of range for a function’s input, such as calling math.sqrt( 1.0):<br>Ans. ValueError: Using an out-of-range value for a function's input, such as calling math.sqrt(1.0) with an invalid square root input.\n",
        "<br><br>[4] Using an undeclared variable, such as p rint(x)\n",
        "when x has not been defined<br>Ans. NameError: Trying to use an undeclared or undefined variable or name, such as attempting to print the value of x when x has not been defined.\n",
        "<br><br>[5] Trying to open a file that does not exist, such as mistyping the file name or looking in the wrong directory.<br>Ans. FileNotFoundError: Trying to open a file that does not exist, either by mistyping the file name or seeking in the incorrect directory."
      ],
      "metadata": {
        "id": "Kk7UTY4_5PKM"
      }
    },
    {
      "cell_type": "code",
      "source": [],
      "metadata": {
        "id": "LBywLFKM6iqu"
      },
      "execution_count": null,
      "outputs": []
    }
  ]
}