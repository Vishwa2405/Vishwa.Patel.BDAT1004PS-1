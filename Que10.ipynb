{
  "nbformat": 4,
  "nbformat_minor": 0,
  "metadata": {
    "colab": {
      "provenance": []
    },
    "kernelspec": {
      "name": "python3",
      "display_name": "Python 3"
    },
    "language_info": {
      "name": "python"
    }
  },
  "cells": [
    {
      "cell_type": "markdown",
      "source": [
        "[10] Encryption is the process of hiding the meaning of a text by substituting letters in the message with other letters, according to some system. If the process is successful, no one but the intended recipient can understand the encrypted message. Cryptanalysis refers to attempts to undo the encryption, even if some details of the encryption are unknown (for example, if an encrypted message has been intercepted). The first step of cryptanalysis is often to build up a table of letter frequencies in the encrypted text. Assume that the string letters is already defined as '<b>abcdefghijklmnopqrstuvwxyz</b>'. <br><br>Write a function called frequencies() that takes a string as its only parameter, and returns a list of integers, showing the number of times each character appears in the text. Your function may ignore any characters that are not in letters."
      ],
      "metadata": {
        "id": "niL87WIm8h2-"
      }
    },
    {
      "cell_type": "code",
      "execution_count": 4,
      "metadata": {
        "colab": {
          "base_uri": "https://localhost:8080/"
        },
        "id": "8Nhmo-9d7SIw",
        "outputId": "4309f7ab-a42d-421d-8423-11295ca239e4"
      },
      "outputs": [
        {
          "output_type": "stream",
          "name": "stdout",
          "text": [
            "[1, 1, 1, 3, 5, 1, 1, 2, 1, 0, 1, 0, 1, 2, 4, 0, 1, 2, 0, 3, 1, 0, 1, 1, 0, 0]\n",
            "[1, 0, 0, 0, 1, 0, 0, 0, 0, 0, 0, 1, 0, 0, 0, 2, 0, 0, 0, 0, 0, 0, 0, 0, 0, 0]\n"
          ]
        }
      ],
      "source": [
        "def frequencies(input_text):\n",
        "    # all the letters\n",
        "    alphabet = 'abcdefghijklmnopqrstuvwxyz'\n",
        "\n",
        "    # making a list for keeping frequencies of each letter\n",
        "    letter_frequencies = [0] * 26\n",
        "\n",
        "    for char in input_text.lower():\n",
        "        # verifying if the letter is presented in the given list or not\n",
        "        if char in alphabet:\n",
        "            # executing a counter for frequency count\n",
        "            letter_frequencies[alphabet.index(char)] += 1\n",
        "\n",
        "    return letter_frequencies\n",
        "\n",
        "text1 = frequencies('The quick red fox got bored and went home.')\n",
        "text2 = frequencies('apple')\n",
        "\n",
        "print(text1)\n",
        "print(text2)"
      ]
    }
  ]
}