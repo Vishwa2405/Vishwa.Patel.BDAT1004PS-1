{
  "nbformat": 4,
  "nbformat_minor": 0,
  "metadata": {
    "colab": {
      "provenance": []
    },
    "kernelspec": {
      "name": "python3",
      "display_name": "Python 3"
    },
    "language_info": {
      "name": "python"
    }
  },
  "cells": [
    {
      "cell_type": "markdown",
      "source": [
        "[8] Write a function curconv() that takes as input:\n",
        "1. a currency represented using a string (e.g., 'JPY' for the Japanese Yen or 'EUR' for the Euro)\n",
        "2. an amount\n",
        "and then converts and returns the amount in US dollars.\n",
        "curconv('EUR', 100)\n",
        "<br>122.96544\n",
        "<br>curconv('JPY', 100)\n",
        "<br>1.241401"
      ],
      "metadata": {
        "id": "x6dVlQBNyXMx"
      }
    },
    {
      "cell_type": "code",
      "source": [
        "def curconv(currency, amount):\n",
        "    try:\n",
        "        with open('currencies.txt', 'r') as file:\n",
        "            for line in file:\n",
        "                curr = line.split()\n",
        "                if curr[0] == currency:\n",
        "                    rateCurr = float(curr[1])\n",
        "                    amountConv = amount * rateCurr\n",
        "                    return amountConv\n",
        "    except FileNotFoundError:\n",
        "        print(\"Error: File 'currencies.txt' not found.\")\n",
        "    except ValueError:\n",
        "        print(\"Error: Invalid format in 'currencies.txt'.\")\n",
        "\n",
        "    return None\n",
        "\n",
        "# showing all the avalibale currencies for conversation\n",
        "print(\"Available Currencies for conversion:\")\n",
        "with open('currencies.txt', 'r') as file:\n",
        "    for line in file:\n",
        "        currCode, rate = line.split()[:2]\n",
        "        print(f\"{currCode}: {rate}\")\n",
        "\n",
        "# User input for currency code and amount of their choice\n",
        "useCurr_Val = input(\"\\nEnter the currency code of your choice: \").upper()\n",
        "userAmunt = float(input(\"Enter the amount to convert: \"))\n",
        "\n",
        "# Currency conversation\n",
        "result = curconv(useCurr_Val, userAmunt)\n",
        "\n",
        "# Showing output\n",
        "if result is not None:\n",
        "    print(f\"The converted amount for given currency in USD is: {result}\")\n"
      ],
      "metadata": {
        "colab": {
          "base_uri": "https://localhost:8080/"
        },
        "id": "OJv416DDyzvR",
        "outputId": "37ee4d13-2895-4f50-c3a6-28aeccfba181"
      },
      "execution_count": null,
      "outputs": [
        {
          "output_type": "stream",
          "name": "stdout",
          "text": [
            "Available Currencies for conversion:\n",
            "AUD: 1.0345157\n",
            "CHF: 1.0237414\n",
            "CNY: 0.1550176\n",
            "DKK: 0.1651442\n",
            "EUR: 1.2296544\n",
            "GBP: 1.5550989\n",
            "HKD: 0.1270207\n",
            "INR: 0.0177643\n",
            "JPY: 0.01241401\n",
            "MXN: 0.0751848\n",
            "MYR: 0.3145411\n",
            "NOK: 0.1677063\n",
            "NZD: 0.8003591\n",
            "PHP: 0.0233234\n",
            "SEK: 0.148269\n",
            "SGD: 0.788871\n",
            "THB: 0.0313789\n",
            "\n",
            "Enter the currency code of your choice: EUR\n",
            "Enter the amount to convert: 39430\n",
            "The converted amount for given currency in USD is: 48485.272992\n"
          ]
        }
      ]
    }
  ]
}