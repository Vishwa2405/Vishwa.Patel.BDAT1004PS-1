{
  "nbformat": 4,
  "nbformat_minor": 0,
  "metadata": {
    "colab": {
      "provenance": []
    },
    "kernelspec": {
      "name": "python3",
      "display_name": "Python 3"
    },
    "language_info": {
      "name": "python"
    }
  },
  "cells": [
    {
      "cell_type": "markdown",
      "source": [
        "[6] You can turn a word into pig-Latin using the following two rules (simplified):<br>\n",
        "<br>• If the word starts with a consonant, move that letter to the end and append 'ay'. For example, 'happy' becomes 'appyhay' and 'pencil' becomes 'encilpay'.\n",
        "<br>• If the word starts with a vowel, simply append 'way' to the end of the word. For example, 'enter' becomes 'enterway' and 'other' becomes 'otherway' . For our purposes, there are 5 vowels: a, e, i, o, u (so we count y as a consonant).\n",
        "<br><br>Write a function pig() that takes a word (i.e., a string) as input and returns its pig-Latin form. Your function should still work if the input word contains upper case characters. Your output should always be lower case however."
      ],
      "metadata": {
        "id": "HW96Jrk4tB2R"
      }
    },
    {
      "cell_type": "code",
      "execution_count": null,
      "metadata": {
        "colab": {
          "base_uri": "https://localhost:8080/"
        },
        "id": "-nDQHkrKrxaH",
        "outputId": "42c1ea99-8141-4fd8-b8ce-7a1835646feb"
      },
      "outputs": [
        {
          "output_type": "stream",
          "name": "stdout",
          "text": [
            "Enter a word: happy\n",
            "pig('happy')\n",
            "'appyhay'\n"
          ]
        }
      ],
      "source": [
        "def pig(word):\n",
        "    # converting the user input to the lower case\n",
        "    word = word.lower()\n",
        "\n",
        "    # checking if the given words starts with vowel or not\n",
        "    if word[0] in ['a', 'e', 'i', 'o', 'u']:\n",
        "        return f\"pig('{word}')\\n'{word}way'\"\n",
        "    else:\n",
        "        return f\"pig('{word}')\\n'{word[1:]}{word[0]}ay'\"\n",
        "\n",
        "givenWord = input(\"Enter a word: \")\n",
        "output = pig(givenWord)\n",
        "print(output)"
      ]
    }
  ]
}